{
 "cells": [
  {
   "cell_type": "markdown",
   "metadata": {
    "id": "jpsxhP9Dr5Af"
   },
   "source": [
    "# Task 1 - Exploratory Data Analysis\n",
    "\n",
    "This notebook will walk you through this task interactively, meaning that once you've imported this notebook into `Google Colab`, you'll be able to run individual cells of code independantly, and see the results as you go.\n",
    "\n",
    "This notebooks is designed for users that have an understanding of Python and data analysis. There will be some helper functions and initial setup code provided, but it will be up to you to perform the analysis and to draw insights!\n",
    "\n",
    "---\n",
    "\n",
    "## Section 1 - Setup\n",
    "\n",
    "First, we need to mount this notebook to our Google Drive folder, in order to access the CSV data file. If you haven't already, watch this video https://www.youtube.com/watch?v=woHxvbBLarQ to help you mount your Google Drive folder."
   ]
  },
  {
   "cell_type": "code",
   "execution_count": 1,
   "metadata": {
    "colab": {
     "base_uri": "https://localhost:8080/"
    },
    "executionInfo": {
     "elapsed": 3814,
     "status": "ok",
     "timestamp": 1694898825634,
     "user": {
      "displayName": "Chaitya Manohar",
      "userId": "03714479732196469381"
     },
     "user_tz": -330
    },
    "id": "rYuqKbngqhNP",
    "outputId": "64335e62-3d64-4339-bb4c-2a04c5b96264"
   },
   "outputs": [
    {
     "ename": "ModuleNotFoundError",
     "evalue": "No module named 'google'",
     "output_type": "error",
     "traceback": [
      "\u001b[1;31m---------------------------------------------------------------------------\u001b[0m",
      "\u001b[1;31mModuleNotFoundError\u001b[0m                       Traceback (most recent call last)",
      "\u001b[1;32m~\\AppData\\Local\\Temp\\ipykernel_29252\\1408506528.py\u001b[0m in \u001b[0;36m<module>\u001b[1;34m\u001b[0m\n\u001b[1;32m----> 1\u001b[1;33m \u001b[1;32mfrom\u001b[0m \u001b[0mgoogle\u001b[0m\u001b[1;33m.\u001b[0m\u001b[0mcolab\u001b[0m \u001b[1;32mimport\u001b[0m \u001b[0mdrive\u001b[0m\u001b[1;33m\u001b[0m\u001b[1;33m\u001b[0m\u001b[0m\n\u001b[0m\u001b[0;32m      2\u001b[0m \u001b[0mdrive\u001b[0m\u001b[1;33m.\u001b[0m\u001b[0mmount\u001b[0m\u001b[1;33m(\u001b[0m\u001b[1;34m'/content/drive'\u001b[0m\u001b[1;33m)\u001b[0m\u001b[1;33m\u001b[0m\u001b[1;33m\u001b[0m\u001b[0m\n",
      "\u001b[1;31mModuleNotFoundError\u001b[0m: No module named 'google'"
     ]
    }
   ],
   "source": [
    "from google.colab import drive\n",
    "drive.mount('/content/drive')"
   ]
  },
  {
   "cell_type": "markdown",
   "metadata": {
    "id": "rgaQP4eos9jS"
   },
   "source": [
    "In order to view, analyse and manipulate the dataset, we must load it into something called a `dataframe`, which is a way of storing tabulated data in a virtual table. This dataframe will allow us to analyse the data freely. To load it into a dataframe, we will need a package called `Pandas`. We can install pandas with this command:"
   ]
  },
  {
   "cell_type": "code",
   "execution_count": null,
   "metadata": {
    "colab": {
     "base_uri": "https://localhost:8080/"
    },
    "id": "u5x18BTjqy3o",
    "outputId": "dba929c8-ffeb-4ded-b023-6d7a05f6a080"
   },
   "outputs": [],
   "source": [
    "!pip install pandas"
   ]
  },
  {
   "cell_type": "markdown",
   "metadata": {
    "id": "Ur2OdJMttaGP"
   },
   "source": [
    "And now we can import this package like so:"
   ]
  },
  {
   "cell_type": "code",
   "execution_count": null,
   "metadata": {
    "executionInfo": {
     "elapsed": 8,
     "status": "ok",
     "timestamp": 1694898827052,
     "user": {
      "displayName": "Chaitya Manohar",
      "userId": "03714479732196469381"
     },
     "user_tz": -330
    },
    "id": "_SP0zwPYq-ef"
   },
   "outputs": [],
   "source": [
    "import pandas as pd"
   ]
  },
  {
   "cell_type": "markdown",
   "metadata": {
    "id": "M5nmOA2Rtd2E"
   },
   "source": [
    "---\n",
    "\n",
    "## Section 2 - Data loading\n",
    "\n",
    "Now that Google Drive is mounted, you can store the CSV file anywhere in your Drive and update the `path` variable below to access it within this notebook. Once we've updated the `path`, let's read this CSV file into a pandas dataframe and see what it looks like"
   ]
  },
  {
   "cell_type": "code",
   "execution_count": null,
   "metadata": {
    "colab": {
     "base_uri": "https://localhost:8080/",
     "height": 423
    },
    "executionInfo": {
     "elapsed": 511,
     "status": "ok",
     "timestamp": 1694898833051,
     "user": {
      "displayName": "Chaitya Manohar",
      "userId": "03714479732196469381"
     },
     "user_tz": -330
    },
    "id": "oDB-Ylm3q_wk",
    "outputId": "e4695cee-210e-44f0-ecca-96e9596cae63"
   },
   "outputs": [],
   "source": [
    "path = \"/content/drive/MyDrive/Colab Notebooks/Datasets/sample_sales_data.csv\"\n",
    "df = pd.read_csv(path)\n",
    "df.drop(columns=[\"Unnamed: 0\"], inplace=True, errors='ignore')\n",
    "df"
   ]
  },
  {
   "cell_type": "markdown",
   "metadata": {
    "id": "ZI-Q3zvsGWpl"
   },
   "source": [
    "Using the `.head()` method allows us to see the top 5 (5 by default) rows within the dataframe. We can use `.tail()` to see the bottom 5. If you want to see more than 5 rows, simply enter a number into the parentheses, e.g. `head(10)` or `tail(10)`."
   ]
  },
  {
   "cell_type": "code",
   "execution_count": null,
   "metadata": {
    "executionInfo": {
     "elapsed": 2,
     "status": "ok",
     "timestamp": 1694902256274,
     "user": {
      "displayName": "Chaitya Manohar",
      "userId": "03714479732196469381"
     },
     "user_tz": -330
    },
    "id": "Hp1Zm-kByaj1"
   },
   "outputs": [],
   "source": [
    "df['timestamp']=pd.to_datetime(df['timestamp'])\n",
    "def categorize_timestamp(t):\n",
    "    hour = t.hour\n",
    "    if 0 <= hour < 6:\n",
    "        return 'Early morning'\n",
    "    elif 6 <= hour < 12:\n",
    "        return 'Morning'\n",
    "    elif 12 <= hour < 17:\n",
    "        return 'Afternoon'\n",
    "    elif 17<=hour<21:\n",
    "        return 'Evening'\n",
    "    else :\n",
    "        return 'night'\n",
    "\n",
    "df['Time_Category'] = df['timestamp'].apply(categorize_timestamp)\n",
    "df['Hour']=df['timestamp'].dt.hour"
   ]
  },
  {
   "cell_type": "code",
   "execution_count": null,
   "metadata": {
    "colab": {
     "base_uri": "https://localhost:8080/"
    },
    "executionInfo": {
     "elapsed": 370,
     "status": "ok",
     "timestamp": 1694902287244,
     "user": {
      "displayName": "Chaitya Manohar",
      "userId": "03714479732196469381"
     },
     "user_tz": -330
    },
    "id": "LgGf4y9I1rTw",
    "outputId": "c551b0e0-a8ad-4ab2-f628-af63138c0ad6"
   },
   "outputs": [],
   "source": [
    "df['Hour'].value_counts()"
   ]
  },
  {
   "cell_type": "code",
   "execution_count": null,
   "metadata": {
    "colab": {
     "base_uri": "https://localhost:8080/",
     "height": 293
    },
    "executionInfo": {
     "elapsed": 393,
     "status": "ok",
     "timestamp": 1694902269262,
     "user": {
      "displayName": "Chaitya Manohar",
      "userId": "03714479732196469381"
     },
     "user_tz": -330
    },
    "id": "xLEBAWiuf1ij",
    "outputId": "cdaf2e89-c274-4bb5-85cf-588b21432724"
   },
   "outputs": [],
   "source": [
    "df.tail()"
   ]
  },
  {
   "cell_type": "code",
   "execution_count": null,
   "metadata": {
    "colab": {
     "base_uri": "https://localhost:8080/",
     "height": 206
    },
    "executionInfo": {
     "elapsed": 428,
     "status": "ok",
     "timestamp": 1694893059606,
     "user": {
      "displayName": "Chaitya Manohar",
      "userId": "03714479732196469381"
     },
     "user_tz": -330
    },
    "id": "FknOeE_ef4i8",
    "outputId": "cd8ed359-6010-4796-a2fb-024aed815617"
   },
   "outputs": [],
   "source": [
    "df.head()"
   ]
  },
  {
   "cell_type": "code",
   "execution_count": null,
   "metadata": {
    "colab": {
     "base_uri": "https://localhost:8080/",
     "height": 423
    },
    "executionInfo": {
     "elapsed": 12,
     "status": "ok",
     "timestamp": 1694893444210,
     "user": {
      "displayName": "Chaitya Manohar",
      "userId": "03714479732196469381"
     },
     "user_tz": -330
    },
    "id": "h0PQKBLohCRO",
    "outputId": "d95ba091-583a-484b-f7f9-857515703902"
   },
   "outputs": [],
   "source": [
    "df[df['unit_price']==0.19]"
   ]
  },
  {
   "cell_type": "markdown",
   "metadata": {
    "id": "qaXaaIr5Hemv"
   },
   "source": [
    "---\n",
    "\n",
    "## Section 3 - Descriptive statistics\n",
    "\n",
    "In this section, you should try to gain a description of the data, that is: what columns are present, how many null values exist and what data types exists within each column.\n",
    "\n",
    "To get you started an explanation of what the column names mean are provided below:\n",
    "\n",
    "- transaction_id = this is a unique ID that is assigned to each transaction\n",
    "- timestamp = this is the datetime at which the transaction was made\n",
    "- product_id = this is an ID that is assigned to the product that was sold. Each product has a unique ID\n",
    "- category = this is the category that the product is contained within\n",
    "- customer_type = this is the type of customer that made the transaction\n",
    "- unit_price = the price that 1 unit of this item sells for\n",
    "- quantity = the number of units sold for this product within this transaction\n",
    "- total = the total amount payable by the customer\n",
    "- payment_type = the payment method used by the customer\n",
    "\n",
    "After this, you should try to compute some descriptive statistics of the numerical columns within the dataset, such as:\n",
    "\n",
    "- mean\n",
    "- median\n",
    "- count\n",
    "- etc..."
   ]
  },
  {
   "cell_type": "code",
   "execution_count": null,
   "metadata": {
    "colab": {
     "base_uri": "https://localhost:8080/",
     "height": 300
    },
    "executionInfo": {
     "elapsed": 12,
     "status": "ok",
     "timestamp": 1694898876393,
     "user": {
      "displayName": "Chaitya Manohar",
      "userId": "03714479732196469381"
     },
     "user_tz": -330
    },
    "id": "sbf25LDJ7FJG",
    "outputId": "ad42f383-d291-44c7-a824-ee7ff951e6c8"
   },
   "outputs": [],
   "source": [
    "df.describe()"
   ]
  },
  {
   "cell_type": "code",
   "execution_count": null,
   "metadata": {
    "colab": {
     "base_uri": "https://localhost:8080/"
    },
    "executionInfo": {
     "elapsed": 8,
     "status": "ok",
     "timestamp": 1694898878119,
     "user": {
      "displayName": "Chaitya Manohar",
      "userId": "03714479732196469381"
     },
     "user_tz": -330
    },
    "id": "ZiLjuHusgaIr",
    "outputId": "0c1215b1-2e4e-41b7-f914-eeeff9780a57"
   },
   "outputs": [],
   "source": [
    "df.info()"
   ]
  },
  {
   "cell_type": "code",
   "execution_count": null,
   "metadata": {
    "colab": {
     "base_uri": "https://localhost:8080/"
    },
    "executionInfo": {
     "elapsed": 830,
     "status": "ok",
     "timestamp": 1694893294806,
     "user": {
      "displayName": "Chaitya Manohar",
      "userId": "03714479732196469381"
     },
     "user_tz": -330
    },
    "id": "uhmSONUKgmgX",
    "outputId": "ff044b47-6a57-4062-fd83-7f2f53abbcc2"
   },
   "outputs": [],
   "source": [
    "df.isnull().sum()"
   ]
  },
  {
   "cell_type": "code",
   "execution_count": null,
   "metadata": {
    "colab": {
     "base_uri": "https://localhost:8080/"
    },
    "executionInfo": {
     "elapsed": 8,
     "status": "ok",
     "timestamp": 1694893805898,
     "user": {
      "displayName": "Chaitya Manohar",
      "userId": "03714479732196469381"
     },
     "user_tz": -330
    },
    "id": "QxBoyfqpiKAB",
    "outputId": "a98150b3-de9d-4a03-c9d4-0703c6a51f61"
   },
   "outputs": [],
   "source": [
    "a = df['category'].value_counts()\n",
    "type(a)"
   ]
  },
  {
   "cell_type": "code",
   "execution_count": null,
   "metadata": {
    "colab": {
     "base_uri": "https://localhost:8080/"
    },
    "executionInfo": {
     "elapsed": 6,
     "status": "ok",
     "timestamp": 1694893842505,
     "user": {
      "displayName": "Chaitya Manohar",
      "userId": "03714479732196469381"
     },
     "user_tz": -330
    },
    "id": "MoEABA6winp0",
    "outputId": "131e02c2-a207-4aaa-b969-60fbc1014304"
   },
   "outputs": [],
   "source": [
    "df['payment_type'].value_counts()"
   ]
  },
  {
   "cell_type": "code",
   "execution_count": null,
   "metadata": {
    "id": "M8Ifo88CqXfB"
   },
   "outputs": [],
   "source": []
  },
  {
   "cell_type": "markdown",
   "metadata": {
    "id": "N-krPtHdHNrh"
   },
   "source": [
    "---\n",
    "\n",
    "## Section 4 - Visualisation\n",
    "\n",
    "Now that you've computed some descriptive statistics of the dataset, let's create some visualisations. You may use any package that you wish for visualisation, however, some helper functions have been provided that make use of the `seaborn` package. If you wish to use these helper functions, ensure to run the below cells that install and import `seaborn`."
   ]
  },
  {
   "cell_type": "code",
   "execution_count": null,
   "metadata": {
    "colab": {
     "base_uri": "https://localhost:8080/"
    },
    "id": "fT9DrY9RHMrd",
    "outputId": "b792ccca-6123-4bc0-e4f5-8d5888a36450"
   },
   "outputs": [],
   "source": [
    "!pip install seaborn"
   ]
  },
  {
   "cell_type": "code",
   "execution_count": null,
   "metadata": {
    "executionInfo": {
     "elapsed": 1244,
     "status": "ok",
     "timestamp": 1694894694525,
     "user": {
      "displayName": "Chaitya Manohar",
      "userId": "03714479732196469381"
     },
     "user_tz": -330
    },
    "id": "32RDb2C7KOpN"
   },
   "outputs": [],
   "source": [
    "import seaborn as sns\n",
    "import matplotlib.pyplot as plt"
   ]
  },
  {
   "cell_type": "markdown",
   "metadata": {
    "id": "rNvl5rGeKv-h"
   },
   "source": [
    "To analyse the dataset, below are snippets of code that you can use as helper functions to visualise different columns within the dataset. They include:\n",
    "\n",
    "- plot_continuous_distribution = this is to visualise the distribution of numeric columns\n",
    "- get_unique_values = this is to show how many unique values are present within a column\n",
    "- plot_categorical_distribution = this is to visualise the distribution of categorical columns\n",
    "- correlation_plot = this is to plot the correlations between the numeric columns within the data"
   ]
  },
  {
   "cell_type": "code",
   "execution_count": null,
   "metadata": {
    "executionInfo": {
     "elapsed": 448,
     "status": "ok",
     "timestamp": 1694896002424,
     "user": {
      "displayName": "Chaitya Manohar",
      "userId": "03714479732196469381"
     },
     "user_tz": -330
    },
    "id": "AyUPE4QRKcYQ"
   },
   "outputs": [],
   "source": [
    "def plot_continuous_distribution(data: pd.DataFrame = None, column: str = None, height: int = 8, huetype: str = None):\n",
    "  g = sns.displot(data, x=column, kde=True, hue=huetype, height=height, aspect=height/5).set(title=f'Distribution of {column}');\n",
    "  plt.xticks(rotation=90)\n",
    "  plt.show()\n",
    "\n",
    "def get_unique_values(data, column):\n",
    "  num_unique_values = len(data[column].unique())\n",
    "  value_counts = data[column].value_counts()\n",
    "  print(f\"Column: {column} has {num_unique_values} unique values\\n\")\n",
    "  print(value_counts)\n",
    "\n",
    "def plot_categorical_distribution(data: pd.DataFrame = None, column: str = None, height: int = 8, aspect: int = 2):\n",
    "  g = sns.catplot(data=data, x=column, kind='count', height=height, aspect=aspect).set(title=f'Distribution of {column}');\n",
    "  plt.xticks(rotation=90)\n",
    "  plt.show()\n",
    "\n",
    "def correlation_plot(data: pd.DataFrame = None):\n",
    "  corr = df.corr()\n",
    "  corr.style.background_gradient(cmap='coolwarm')"
   ]
  },
  {
   "cell_type": "code",
   "execution_count": null,
   "metadata": {
    "colab": {
     "base_uri": "https://localhost:8080/",
     "height": 977
    },
    "executionInfo": {
     "elapsed": 2664,
     "status": "ok",
     "timestamp": 1694900059596,
     "user": {
      "displayName": "Chaitya Manohar",
      "userId": "03714479732196469381"
     },
     "user_tz": -330
    },
    "id": "uAudTC3xkIWe",
    "outputId": "0cb6bdf5-942a-4738-b020-276ad08c3a10"
   },
   "outputs": [],
   "source": [
    "plot_continuous_distribution(df,'category')"
   ]
  },
  {
   "cell_type": "code",
   "execution_count": null,
   "metadata": {
    "colab": {
     "base_uri": "https://localhost:8080/",
     "height": 849
    },
    "executionInfo": {
     "elapsed": 1548,
     "status": "ok",
     "timestamp": 1694896282799,
     "user": {
      "displayName": "Chaitya Manohar",
      "userId": "03714479732196469381"
     },
     "user_tz": -330
    },
    "id": "ieP5Ngt1sFIV",
    "outputId": "24feea1a-d48f-48db-9bcc-c6ec3424c2c1"
   },
   "outputs": [],
   "source": [
    "plot_categorical_distribution(df,'customer_type')"
   ]
  },
  {
   "cell_type": "code",
   "execution_count": null,
   "metadata": {
    "colab": {
     "base_uri": "https://localhost:8080/",
     "height": 624
    },
    "executionInfo": {
     "elapsed": 865,
     "status": "ok",
     "timestamp": 1694897651252,
     "user": {
      "displayName": "Chaitya Manohar",
      "userId": "03714479732196469381"
     },
     "user_tz": -330
    },
    "id": "RLZfVVv5wURW",
    "outputId": "484933f1-ef9a-45cd-b300-a1a500c3fef3"
   },
   "outputs": [],
   "source": [
    "sns.displot(data=df,x='payment_type',height = 6,hue='customer_type')"
   ]
  },
  {
   "cell_type": "code",
   "execution_count": null,
   "metadata": {
    "colab": {
     "base_uri": "https://localhost:8080/",
     "height": 466
    },
    "executionInfo": {
     "elapsed": 616,
     "status": "ok",
     "timestamp": 1694900788714,
     "user": {
      "displayName": "Chaitya Manohar",
      "userId": "03714479732196469381"
     },
     "user_tz": -330
    },
    "id": "R0xcXmIp9BwZ",
    "outputId": "b3a090f0-0377-46ef-8c79-62fc2615ac05"
   },
   "outputs": [],
   "source": [
    "sns.barplot(data=df,x='customer_type',y='total',estimator='mean')"
   ]
  },
  {
   "cell_type": "code",
   "execution_count": null,
   "metadata": {
    "colab": {
     "base_uri": "https://localhost:8080/"
    },
    "executionInfo": {
     "elapsed": 382,
     "status": "ok",
     "timestamp": 1694900926737,
     "user": {
      "displayName": "Chaitya Manohar",
      "userId": "03714479732196469381"
     },
     "user_tz": -330
    },
    "id": "7P7vXcmI9heC",
    "outputId": "c1382b20-c77a-4820-f0cd-b69add130f87"
   },
   "outputs": [],
   "source": [
    "df[df['customer_type']=='basic']['total'].mean()"
   ]
  },
  {
   "cell_type": "code",
   "execution_count": null,
   "metadata": {
    "colab": {
     "base_uri": "https://localhost:8080/",
     "height": 656
    },
    "executionInfo": {
     "elapsed": 1295,
     "status": "ok",
     "timestamp": 1694897165126,
     "user": {
      "displayName": "Chaitya Manohar",
      "userId": "03714479732196469381"
     },
     "user_tz": -330
    },
    "id": "VBHvV-6buORm",
    "outputId": "b2981f3c-8ab7-41f8-b81b-2812c8f81ebc"
   },
   "outputs": [],
   "source": [
    "g = sns.catplot(data=df,x='category',y='total')\n",
    "plt.xticks(rotation=90)\n",
    "plt.show()"
   ]
  },
  {
   "cell_type": "code",
   "execution_count": null,
   "metadata": {
    "colab": {
     "base_uri": "https://localhost:8080/",
     "height": 582
    },
    "executionInfo": {
     "elapsed": 1382,
     "status": "ok",
     "timestamp": 1694900085538,
     "user": {
      "displayName": "Chaitya Manohar",
      "userId": "03714479732196469381"
     },
     "user_tz": -330
    },
    "id": "DxRw6Cf_2n3R",
    "outputId": "baa8e9ae-f1c6-47d1-eba1-3b33340b995b"
   },
   "outputs": [],
   "source": [
    "g = sns.displot(data=df,x='customer_type',y='total')\n",
    "plt.xticks(rotation=90)\n",
    "plt.show()"
   ]
  },
  {
   "cell_type": "code",
   "execution_count": null,
   "metadata": {
    "colab": {
     "base_uri": "https://localhost:8080/",
     "height": 849
    },
    "executionInfo": {
     "elapsed": 1202,
     "status": "ok",
     "timestamp": 1694898739612,
     "user": {
      "displayName": "Chaitya Manohar",
      "userId": "03714479732196469381"
     },
     "user_tz": -330
    },
    "id": "rUAO3zRR0C9Q",
    "outputId": "0f744f31-38ee-4e5e-932e-19142becf3b9"
   },
   "outputs": [],
   "source": [
    "plot_categorical_distribution(df,'Time_Category')"
   ]
  },
  {
   "cell_type": "code",
   "execution_count": null,
   "metadata": {
    "colab": {
     "base_uri": "https://localhost:8080/"
    },
    "executionInfo": {
     "elapsed": 3,
     "status": "ok",
     "timestamp": 1694902202895,
     "user": {
      "displayName": "Chaitya Manohar",
      "userId": "03714479732196469381"
     },
     "user_tz": -330
    },
    "id": "HoyMqSzPCu6C",
    "outputId": "791c7fc6-7770-4452-a501-756813b39107"
   },
   "outputs": [],
   "source": [
    "df['customer_type'].value_counts()"
   ]
  },
  {
   "cell_type": "markdown",
   "metadata": {
    "id": "5Z-e_tlCrniC"
   },
   "source": [
    "## Key Insights :\n",
    "1. Fruits and Vegetables are top most priority for our client, as majority of sakes is done via these two.\n",
    "2. Seafoord,meat,medicines,beverages are leading to a greater bill ie total amount.\n",
    "3. Fruits and vegetables are very cheaper as compared to others.\n",
    "4. Data is distributed evenly across all type of members hence, no exact relationship betweeen customer_type and total_amount ie bill can be derived.\n",
    "5. As I categorized the data into morning,afternoon,evening it seems majority of the sales is done during afternoon although consdierable amount is also seen for morning and evening.\n",
    "6. Spices and herbs, sauces and condiments , pet related foods are relztively less purhased .\n"
   ]
  },
  {
   "cell_type": "markdown",
   "metadata": {
    "id": "Atm2hxjv70Wr"
   },
   "source": [
    "Now it is your chance to visualise the columns, give it your best shot! As well as simply visualising the columns, try to interpret what the results mean in the context of the client."
   ]
  },
  {
   "cell_type": "markdown",
   "metadata": {
    "id": "oBin5kdG4iS0"
   },
   "source": [
    "---\n",
    "\n",
    "## Section 5 - Summary\n",
    "\n",
    "We have completed an initial exploratory data analysis on the sample of data provided. We should now have a solid understanding of the data.\n",
    "\n",
    "The client wants to know\n",
    "\n",
    "```\n",
    "\"How to better stock the items that they sell\"\n",
    "```\n",
    "\n",
    "From this dataset, it is impossible to answer that question. In order to make the next step on this project with the client, it is clear that:\n",
    "\n",
    "- We need more rows of data. The current sample is only from 1 store and 1 week worth of data\n",
    "- We need to frame the specific problem statement that we want to solve. The current business problem is too broad, we should narrow down the focus in order to deliver a valuable end product\n",
    "- We need more features. Based on the problem statement that we move forward with, we need more columns (features) that may help us to understand the outcome that we're solving for\n",
    "\n"
   ]
  }
 ],
 "metadata": {
  "colab": {
   "provenance": []
  },
  "kernelspec": {
   "display_name": "Python 3 (ipykernel)",
   "language": "python",
   "name": "python3"
  },
  "language_info": {
   "codemirror_mode": {
    "name": "ipython",
    "version": 3
   },
   "file_extension": ".py",
   "mimetype": "text/x-python",
   "name": "python",
   "nbconvert_exporter": "python",
   "pygments_lexer": "ipython3",
   "version": "3.9.13"
  }
 },
 "nbformat": 4,
 "nbformat_minor": 1
}
